{
  "nbformat": 4,
  "nbformat_minor": 0,
  "metadata": {
    "colab": {
      "provenance": [],
      "authorship_tag": "ABX9TyP3MO2NqSquXEcAWFv87B5Q",
      "include_colab_link": true
    },
    "kernelspec": {
      "name": "python3",
      "display_name": "Python 3"
    },
    "language_info": {
      "name": "python"
    }
  },
  "cells": [
    {
      "cell_type": "markdown",
      "metadata": {
        "id": "view-in-github",
        "colab_type": "text"
      },
      "source": [
        "<a href=\"https://colab.research.google.com/github/Pabloskking/Probabilidad-y-Estad-stica/blob/main/Unidad2/probabilidad_U2_Programa2.ipynb\" target=\"_parent\"><img src=\"https://colab.research.google.com/assets/colab-badge.svg\" alt=\"Open In Colab\"/></a>"
      ]
    },
    {
      "cell_type": "markdown",
      "source": [
        "# Probabilidad y Estadística\n",
        "![Tecno logo.png](data:image/png;base64,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)\n",
        "## **Unidad 2**\n",
        "\n",
        "**Práctica 2**\n",
        "\n",
        "**Grupo:** 2Y\n",
        "\n",
        "**Alumno:** Juan Pablo Soriano González\n",
        "\n",
        "**Docente:** Dr. José Gabriel Rodríguez Rivas"
      ],
      "metadata": {
        "id": "4mnQIOD6tOmA"
      }
    },
    {
      "cell_type": "markdown",
      "source": [
        "---"
      ],
      "metadata": {
        "id": "BgNmuUQCtQNs"
      }
    },
    {
      "cell_type": "markdown",
      "source": [
        "##Ejemplo 1"
      ],
      "metadata": {
        "id": "j9-NovKvtZje"
      }
    },
    {
      "cell_type": "code",
      "source": [
        "import math as mt # Para utilizar factorial\n",
        "from itertools import permutations\n",
        "from itertools import product\n",
        "import numpy as np"
      ],
      "metadata": {
        "id": "iylK_x6itdqb"
      },
      "execution_count": null,
      "outputs": []
    },
    {
      "cell_type": "code",
      "source": [
        "mt.factorial(7)"
      ],
      "metadata": {
        "colab": {
          "base_uri": "https://localhost:8080/"
        },
        "id": "ewmqhmeatqpY",
        "outputId": "a920562c-6f33-4c3d-d85f-65a4f1aa02e1"
      },
      "execution_count": null,
      "outputs": [
        {
          "output_type": "execute_result",
          "data": {
            "text/plain": [
              "5040"
            ]
          },
          "metadata": {},
          "execution_count": 2
        }
      ]
    },
    {
      "cell_type": "code",
      "source": [
        "mt.factorial(4)"
      ],
      "metadata": {
        "colab": {
          "base_uri": "https://localhost:8080/"
        },
        "id": "Rq6tzYTYtrZ8",
        "outputId": "e96654bf-3b2d-4f6f-db02-388484669c1b"
      },
      "execution_count": null,
      "outputs": [
        {
          "output_type": "execute_result",
          "data": {
            "text/plain": [
              "24"
            ]
          },
          "metadata": {},
          "execution_count": 3
        }
      ]
    },
    {
      "cell_type": "code",
      "source": [
        "5040 / 24"
      ],
      "metadata": {
        "colab": {
          "base_uri": "https://localhost:8080/"
        },
        "id": "mCcIpPePtsQk",
        "outputId": "43fa9aa3-9812-4d6b-b5d5-7e5f80e3d24f"
      },
      "execution_count": null,
      "outputs": [
        {
          "output_type": "execute_result",
          "data": {
            "text/plain": [
              "210.0"
            ]
          },
          "metadata": {},
          "execution_count": 4
        }
      ]
    },
    {
      "cell_type": "markdown",
      "source": [
        "---"
      ],
      "metadata": {
        "id": "El6uNUrXt0Ej"
      }
    },
    {
      "cell_type": "markdown",
      "source": [
        "##Ejemplo 2"
      ],
      "metadata": {
        "id": "DAo4kzZit0sR"
      }
    },
    {
      "cell_type": "code",
      "source": [
        "nombres = [\"a\", \"b\", \"c\", \"d\", \"e\", \"f\", \"g\"]\n",
        "n = len(nombres)\n",
        "r = 3 # ¿Cómo agrupar?\n",
        "\n",
        "pr = mt.factorial(n) / mt.factorial(n-r)\n",
        "print(\"Existen \", pr, \" posibles permutaciones sin repetición del total de \", n,\n",
        "      \" nombres \", \" en grupos de \", r, \" en \", r)\n",
        "print(\"Aquí las permutaciones\")\n",
        "permutacionesNombres = list(permutations(nombres, r))\n",
        "\n",
        "#Imprime las permutaciones\n",
        "for permutacion in permutacionesNombres:\n",
        "    print(permutacion)"
      ],
      "metadata": {
        "colab": {
          "base_uri": "https://localhost:8080/"
        },
        "id": "mKYVGpRot31O",
        "outputId": "b82783e5-aae0-4448-fcff-30d472086307"
      },
      "execution_count": null,
      "outputs": [
        {
          "output_type": "stream",
          "name": "stdout",
          "text": [
            "Existen  210.0  posibles permutaciones sin repetición del total de  7  nombres   en grupos de  3  en  3\n",
            "Aquí las permutaciones\n",
            "('a', 'b', 'c')\n",
            "('a', 'b', 'd')\n",
            "('a', 'b', 'e')\n",
            "('a', 'b', 'f')\n",
            "('a', 'b', 'g')\n",
            "('a', 'c', 'b')\n",
            "('a', 'c', 'd')\n",
            "('a', 'c', 'e')\n",
            "('a', 'c', 'f')\n",
            "('a', 'c', 'g')\n",
            "('a', 'd', 'b')\n",
            "('a', 'd', 'c')\n",
            "('a', 'd', 'e')\n",
            "('a', 'd', 'f')\n",
            "('a', 'd', 'g')\n",
            "('a', 'e', 'b')\n",
            "('a', 'e', 'c')\n",
            "('a', 'e', 'd')\n",
            "('a', 'e', 'f')\n",
            "('a', 'e', 'g')\n",
            "('a', 'f', 'b')\n",
            "('a', 'f', 'c')\n",
            "('a', 'f', 'd')\n",
            "('a', 'f', 'e')\n",
            "('a', 'f', 'g')\n",
            "('a', 'g', 'b')\n",
            "('a', 'g', 'c')\n",
            "('a', 'g', 'd')\n",
            "('a', 'g', 'e')\n",
            "('a', 'g', 'f')\n",
            "('b', 'a', 'c')\n",
            "('b', 'a', 'd')\n",
            "('b', 'a', 'e')\n",
            "('b', 'a', 'f')\n",
            "('b', 'a', 'g')\n",
            "('b', 'c', 'a')\n",
            "('b', 'c', 'd')\n",
            "('b', 'c', 'e')\n",
            "('b', 'c', 'f')\n",
            "('b', 'c', 'g')\n",
            "('b', 'd', 'a')\n",
            "('b', 'd', 'c')\n",
            "('b', 'd', 'e')\n",
            "('b', 'd', 'f')\n",
            "('b', 'd', 'g')\n",
            "('b', 'e', 'a')\n",
            "('b', 'e', 'c')\n",
            "('b', 'e', 'd')\n",
            "('b', 'e', 'f')\n",
            "('b', 'e', 'g')\n",
            "('b', 'f', 'a')\n",
            "('b', 'f', 'c')\n",
            "('b', 'f', 'd')\n",
            "('b', 'f', 'e')\n",
            "('b', 'f', 'g')\n",
            "('b', 'g', 'a')\n",
            "('b', 'g', 'c')\n",
            "('b', 'g', 'd')\n",
            "('b', 'g', 'e')\n",
            "('b', 'g', 'f')\n",
            "('c', 'a', 'b')\n",
            "('c', 'a', 'd')\n",
            "('c', 'a', 'e')\n",
            "('c', 'a', 'f')\n",
            "('c', 'a', 'g')\n",
            "('c', 'b', 'a')\n",
            "('c', 'b', 'd')\n",
            "('c', 'b', 'e')\n",
            "('c', 'b', 'f')\n",
            "('c', 'b', 'g')\n",
            "('c', 'd', 'a')\n",
            "('c', 'd', 'b')\n",
            "('c', 'd', 'e')\n",
            "('c', 'd', 'f')\n",
            "('c', 'd', 'g')\n",
            "('c', 'e', 'a')\n",
            "('c', 'e', 'b')\n",
            "('c', 'e', 'd')\n",
            "('c', 'e', 'f')\n",
            "('c', 'e', 'g')\n",
            "('c', 'f', 'a')\n",
            "('c', 'f', 'b')\n",
            "('c', 'f', 'd')\n",
            "('c', 'f', 'e')\n",
            "('c', 'f', 'g')\n",
            "('c', 'g', 'a')\n",
            "('c', 'g', 'b')\n",
            "('c', 'g', 'd')\n",
            "('c', 'g', 'e')\n",
            "('c', 'g', 'f')\n",
            "('d', 'a', 'b')\n",
            "('d', 'a', 'c')\n",
            "('d', 'a', 'e')\n",
            "('d', 'a', 'f')\n",
            "('d', 'a', 'g')\n",
            "('d', 'b', 'a')\n",
            "('d', 'b', 'c')\n",
            "('d', 'b', 'e')\n",
            "('d', 'b', 'f')\n",
            "('d', 'b', 'g')\n",
            "('d', 'c', 'a')\n",
            "('d', 'c', 'b')\n",
            "('d', 'c', 'e')\n",
            "('d', 'c', 'f')\n",
            "('d', 'c', 'g')\n",
            "('d', 'e', 'a')\n",
            "('d', 'e', 'b')\n",
            "('d', 'e', 'c')\n",
            "('d', 'e', 'f')\n",
            "('d', 'e', 'g')\n",
            "('d', 'f', 'a')\n",
            "('d', 'f', 'b')\n",
            "('d', 'f', 'c')\n",
            "('d', 'f', 'e')\n",
            "('d', 'f', 'g')\n",
            "('d', 'g', 'a')\n",
            "('d', 'g', 'b')\n",
            "('d', 'g', 'c')\n",
            "('d', 'g', 'e')\n",
            "('d', 'g', 'f')\n",
            "('e', 'a', 'b')\n",
            "('e', 'a', 'c')\n",
            "('e', 'a', 'd')\n",
            "('e', 'a', 'f')\n",
            "('e', 'a', 'g')\n",
            "('e', 'b', 'a')\n",
            "('e', 'b', 'c')\n",
            "('e', 'b', 'd')\n",
            "('e', 'b', 'f')\n",
            "('e', 'b', 'g')\n",
            "('e', 'c', 'a')\n",
            "('e', 'c', 'b')\n",
            "('e', 'c', 'd')\n",
            "('e', 'c', 'f')\n",
            "('e', 'c', 'g')\n",
            "('e', 'd', 'a')\n",
            "('e', 'd', 'b')\n",
            "('e', 'd', 'c')\n",
            "('e', 'd', 'f')\n",
            "('e', 'd', 'g')\n",
            "('e', 'f', 'a')\n",
            "('e', 'f', 'b')\n",
            "('e', 'f', 'c')\n",
            "('e', 'f', 'd')\n",
            "('e', 'f', 'g')\n",
            "('e', 'g', 'a')\n",
            "('e', 'g', 'b')\n",
            "('e', 'g', 'c')\n",
            "('e', 'g', 'd')\n",
            "('e', 'g', 'f')\n",
            "('f', 'a', 'b')\n",
            "('f', 'a', 'c')\n",
            "('f', 'a', 'd')\n",
            "('f', 'a', 'e')\n",
            "('f', 'a', 'g')\n",
            "('f', 'b', 'a')\n",
            "('f', 'b', 'c')\n",
            "('f', 'b', 'd')\n",
            "('f', 'b', 'e')\n",
            "('f', 'b', 'g')\n",
            "('f', 'c', 'a')\n",
            "('f', 'c', 'b')\n",
            "('f', 'c', 'd')\n",
            "('f', 'c', 'e')\n",
            "('f', 'c', 'g')\n",
            "('f', 'd', 'a')\n",
            "('f', 'd', 'b')\n",
            "('f', 'd', 'c')\n",
            "('f', 'd', 'e')\n",
            "('f', 'd', 'g')\n",
            "('f', 'e', 'a')\n",
            "('f', 'e', 'b')\n",
            "('f', 'e', 'c')\n",
            "('f', 'e', 'd')\n",
            "('f', 'e', 'g')\n",
            "('f', 'g', 'a')\n",
            "('f', 'g', 'b')\n",
            "('f', 'g', 'c')\n",
            "('f', 'g', 'd')\n",
            "('f', 'g', 'e')\n",
            "('g', 'a', 'b')\n",
            "('g', 'a', 'c')\n",
            "('g', 'a', 'd')\n",
            "('g', 'a', 'e')\n",
            "('g', 'a', 'f')\n",
            "('g', 'b', 'a')\n",
            "('g', 'b', 'c')\n",
            "('g', 'b', 'd')\n",
            "('g', 'b', 'e')\n",
            "('g', 'b', 'f')\n",
            "('g', 'c', 'a')\n",
            "('g', 'c', 'b')\n",
            "('g', 'c', 'd')\n",
            "('g', 'c', 'e')\n",
            "('g', 'c', 'f')\n",
            "('g', 'd', 'a')\n",
            "('g', 'd', 'b')\n",
            "('g', 'd', 'c')\n",
            "('g', 'd', 'e')\n",
            "('g', 'd', 'f')\n",
            "('g', 'e', 'a')\n",
            "('g', 'e', 'b')\n",
            "('g', 'e', 'c')\n",
            "('g', 'e', 'd')\n",
            "('g', 'e', 'f')\n",
            "('g', 'f', 'a')\n",
            "('g', 'f', 'b')\n",
            "('g', 'f', 'c')\n",
            "('g', 'f', 'd')\n",
            "('g', 'f', 'e')\n"
          ]
        }
      ]
    }
  ]
}