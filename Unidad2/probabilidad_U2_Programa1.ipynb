{
  "nbformat": 4,
  "nbformat_minor": 0,
  "metadata": {
    "colab": {
      "provenance": [],
      "authorship_tag": "ABX9TyOYyROuCPwOwCjmQNTmZ7l5",
      "include_colab_link": true
    },
    "kernelspec": {
      "name": "python3",
      "display_name": "Python 3"
    },
    "language_info": {
      "name": "python"
    }
  },
  "cells": [
    {
      "cell_type": "markdown",
      "metadata": {
        "id": "view-in-github",
        "colab_type": "text"
      },
      "source": [
        "<a href=\"https://colab.research.google.com/github/Pabloskking/Probabilidad-y-Estad-stica/blob/main/Unidad2/probabilidad_U2_Programa1.ipynb\" target=\"_parent\"><img src=\"https://colab.research.google.com/assets/colab-badge.svg\" alt=\"Open In Colab\"/></a>"
      ]
    },
    {
      "cell_type": "markdown",
      "source": [
        "# Probabilidad y Estadística\n",
        "![Tecno logo.png](data:image/png;base64,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)\n",
        "\n",
        "## **Unidad 2**\n",
        "\n",
        "**Práctica 1**\n",
        "\n",
        "**Grupo:** 2Y\n",
        "\n",
        "**Alumno:** Juan Pablo Soriano González\n",
        "\n",
        "**Docente:** Dr. José Gabriel Rodríguez Rivas"
      ],
      "metadata": {
        "id": "nXJbMbNNrhq2"
      }
    },
    {
      "cell_type": "markdown",
      "source": [
        "---"
      ],
      "metadata": {
        "id": "DK7WJMwhrgKT"
      }
    },
    {
      "cell_type": "markdown",
      "source": [
        "##Ejemplo 1"
      ],
      "metadata": {
        "id": "bzrulY_erd4b"
      }
    },
    {
      "cell_type": "code",
      "execution_count": null,
      "metadata": {
        "id": "mHWLRK9srO9z"
      },
      "outputs": [],
      "source": [
        "import math as mt #Para utilizar factorial\n",
        "from itertools import combinations\n",
        "from itertools import combinations_with_replacement\n",
        "import numpy as np"
      ]
    },
    {
      "cell_type": "code",
      "source": [
        "nombres  = [\"Oscar\", \"Paco\", \"Paty\", \"Laura\", \"Rubén\", \"Luis\", \"Lucy\", \"Alberto\", \"Juan\", \"Danny\"]\n",
        "n = len(nombres)\n",
        "r = 2 # ¿Como agrupar?\n",
        "Cn = mt.factorial(n) / (mt.factorial(r) * mt.factorial(n - r))\n",
        "print(\"Existen \", Cn, \" posibles combinaciones sin repetición del total  de \", n, \" nombres \", \" en grupos de\", r, \" en \", r)\n",
        "print(\"Aquií las combinaciones\")\n",
        "combinacionesNombres = list(combinations(nombres, r))\n",
        "# Imprime las combinaciones\n",
        "for combinacion in combinacionesNombres:\n",
        "    print(combinacion)"
      ],
      "metadata": {
        "colab": {
          "base_uri": "https://localhost:8080/"
        },
        "id": "8ZCK8UHdrmfs",
        "outputId": "f8276142-0756-4c5c-dc2f-77abc113eb4d"
      },
      "execution_count": null,
      "outputs": [
        {
          "output_type": "stream",
          "name": "stdout",
          "text": [
            "Existen  45.0  posibles combinaciones sin repetición del total  de  10  nombres   en grupos de 2  en  2\n",
            "Aquií las combinaciones\n",
            "('Oscar', 'Paco')\n",
            "('Oscar', 'Paty')\n",
            "('Oscar', 'Laura')\n",
            "('Oscar', 'Rubén')\n",
            "('Oscar', 'Luis')\n",
            "('Oscar', 'Lucy')\n",
            "('Oscar', 'Alberto')\n",
            "('Oscar', 'Juan')\n",
            "('Oscar', 'Danny')\n",
            "('Paco', 'Paty')\n",
            "('Paco', 'Laura')\n",
            "('Paco', 'Rubén')\n",
            "('Paco', 'Luis')\n",
            "('Paco', 'Lucy')\n",
            "('Paco', 'Alberto')\n",
            "('Paco', 'Juan')\n",
            "('Paco', 'Danny')\n",
            "('Paty', 'Laura')\n",
            "('Paty', 'Rubén')\n",
            "('Paty', 'Luis')\n",
            "('Paty', 'Lucy')\n",
            "('Paty', 'Alberto')\n",
            "('Paty', 'Juan')\n",
            "('Paty', 'Danny')\n",
            "('Laura', 'Rubén')\n",
            "('Laura', 'Luis')\n",
            "('Laura', 'Lucy')\n",
            "('Laura', 'Alberto')\n",
            "('Laura', 'Juan')\n",
            "('Laura', 'Danny')\n",
            "('Rubén', 'Luis')\n",
            "('Rubén', 'Lucy')\n",
            "('Rubén', 'Alberto')\n",
            "('Rubén', 'Juan')\n",
            "('Rubén', 'Danny')\n",
            "('Luis', 'Lucy')\n",
            "('Luis', 'Alberto')\n",
            "('Luis', 'Juan')\n",
            "('Luis', 'Danny')\n",
            "('Lucy', 'Alberto')\n",
            "('Lucy', 'Juan')\n",
            "('Lucy', 'Danny')\n",
            "('Alberto', 'Juan')\n",
            "('Alberto', 'Danny')\n",
            "('Juan', 'Danny')\n"
          ]
        }
      ]
    },
    {
      "cell_type": "markdown",
      "source": [
        "---"
      ],
      "metadata": {
        "id": "MP9oynB7r2yn"
      }
    },
    {
      "cell_type": "markdown",
      "source": [
        "##Ejemplo 2"
      ],
      "metadata": {
        "id": "LiEHNC88r4xB"
      }
    },
    {
      "cell_type": "code",
      "source": [
        "caracteres = [\"A\", \"B\", \"C\", \"D\", \"E\", \"F\", \"0\", \"1\", \"2\", \"3\", \"4\", \"5\"]\n",
        "n = len(caracteres)\n",
        "r = 10 #¿Cómo agrupar?\n",
        "Cn = mt.factorial(n) / (mt.factorial(r) * mt.factorial(n - r))\n",
        "print(\"Existen \", Cn, \" posibles combinaciones sin repetición del total  de \", n, \" caracteres \", \" en grupos de\", r, \" en \", r)\n",
        "print(\"Aquií las combinaciones\")\n",
        "combinacionesCaracteres = list(combinations(caracteres, r))\n",
        "# Imprime las combinaciones\n",
        "for combinacion in combinacionesCaracteres:\n",
        "    print(combinacion)"
      ],
      "metadata": {
        "colab": {
          "base_uri": "https://localhost:8080/"
        },
        "id": "cch6INqmrrOq",
        "outputId": "cffb31d1-14ac-4f87-ef20-a29eae604040"
      },
      "execution_count": null,
      "outputs": [
        {
          "output_type": "stream",
          "name": "stdout",
          "text": [
            "Existen  66.0  posibles combinaciones sin repetición del total  de  12  caracteres   en grupos de 10  en  10\n",
            "Aquií las combinaciones\n",
            "('A', 'B', 'C', 'D', 'E', 'F', '0', '1', '2', '3')\n",
            "('A', 'B', 'C', 'D', 'E', 'F', '0', '1', '2', '4')\n",
            "('A', 'B', 'C', 'D', 'E', 'F', '0', '1', '2', '5')\n",
            "('A', 'B', 'C', 'D', 'E', 'F', '0', '1', '3', '4')\n",
            "('A', 'B', 'C', 'D', 'E', 'F', '0', '1', '3', '5')\n",
            "('A', 'B', 'C', 'D', 'E', 'F', '0', '1', '4', '5')\n",
            "('A', 'B', 'C', 'D', 'E', 'F', '0', '2', '3', '4')\n",
            "('A', 'B', 'C', 'D', 'E', 'F', '0', '2', '3', '5')\n",
            "('A', 'B', 'C', 'D', 'E', 'F', '0', '2', '4', '5')\n",
            "('A', 'B', 'C', 'D', 'E', 'F', '0', '3', '4', '5')\n",
            "('A', 'B', 'C', 'D', 'E', 'F', '1', '2', '3', '4')\n",
            "('A', 'B', 'C', 'D', 'E', 'F', '1', '2', '3', '5')\n",
            "('A', 'B', 'C', 'D', 'E', 'F', '1', '2', '4', '5')\n",
            "('A', 'B', 'C', 'D', 'E', 'F', '1', '3', '4', '5')\n",
            "('A', 'B', 'C', 'D', 'E', 'F', '2', '3', '4', '5')\n",
            "('A', 'B', 'C', 'D', 'E', '0', '1', '2', '3', '4')\n",
            "('A', 'B', 'C', 'D', 'E', '0', '1', '2', '3', '5')\n",
            "('A', 'B', 'C', 'D', 'E', '0', '1', '2', '4', '5')\n",
            "('A', 'B', 'C', 'D', 'E', '0', '1', '3', '4', '5')\n",
            "('A', 'B', 'C', 'D', 'E', '0', '2', '3', '4', '5')\n",
            "('A', 'B', 'C', 'D', 'E', '1', '2', '3', '4', '5')\n",
            "('A', 'B', 'C', 'D', 'F', '0', '1', '2', '3', '4')\n",
            "('A', 'B', 'C', 'D', 'F', '0', '1', '2', '3', '5')\n",
            "('A', 'B', 'C', 'D', 'F', '0', '1', '2', '4', '5')\n",
            "('A', 'B', 'C', 'D', 'F', '0', '1', '3', '4', '5')\n",
            "('A', 'B', 'C', 'D', 'F', '0', '2', '3', '4', '5')\n",
            "('A', 'B', 'C', 'D', 'F', '1', '2', '3', '4', '5')\n",
            "('A', 'B', 'C', 'D', '0', '1', '2', '3', '4', '5')\n",
            "('A', 'B', 'C', 'E', 'F', '0', '1', '2', '3', '4')\n",
            "('A', 'B', 'C', 'E', 'F', '0', '1', '2', '3', '5')\n",
            "('A', 'B', 'C', 'E', 'F', '0', '1', '2', '4', '5')\n",
            "('A', 'B', 'C', 'E', 'F', '0', '1', '3', '4', '5')\n",
            "('A', 'B', 'C', 'E', 'F', '0', '2', '3', '4', '5')\n",
            "('A', 'B', 'C', 'E', 'F', '1', '2', '3', '4', '5')\n",
            "('A', 'B', 'C', 'E', '0', '1', '2', '3', '4', '5')\n",
            "('A', 'B', 'C', 'F', '0', '1', '2', '3', '4', '5')\n",
            "('A', 'B', 'D', 'E', 'F', '0', '1', '2', '3', '4')\n",
            "('A', 'B', 'D', 'E', 'F', '0', '1', '2', '3', '5')\n",
            "('A', 'B', 'D', 'E', 'F', '0', '1', '2', '4', '5')\n",
            "('A', 'B', 'D', 'E', 'F', '0', '1', '3', '4', '5')\n",
            "('A', 'B', 'D', 'E', 'F', '0', '2', '3', '4', '5')\n",
            "('A', 'B', 'D', 'E', 'F', '1', '2', '3', '4', '5')\n",
            "('A', 'B', 'D', 'E', '0', '1', '2', '3', '4', '5')\n",
            "('A', 'B', 'D', 'F', '0', '1', '2', '3', '4', '5')\n",
            "('A', 'B', 'E', 'F', '0', '1', '2', '3', '4', '5')\n",
            "('A', 'C', 'D', 'E', 'F', '0', '1', '2', '3', '4')\n",
            "('A', 'C', 'D', 'E', 'F', '0', '1', '2', '3', '5')\n",
            "('A', 'C', 'D', 'E', 'F', '0', '1', '2', '4', '5')\n",
            "('A', 'C', 'D', 'E', 'F', '0', '1', '3', '4', '5')\n",
            "('A', 'C', 'D', 'E', 'F', '0', '2', '3', '4', '5')\n",
            "('A', 'C', 'D', 'E', 'F', '1', '2', '3', '4', '5')\n",
            "('A', 'C', 'D', 'E', '0', '1', '2', '3', '4', '5')\n",
            "('A', 'C', 'D', 'F', '0', '1', '2', '3', '4', '5')\n",
            "('A', 'C', 'E', 'F', '0', '1', '2', '3', '4', '5')\n",
            "('A', 'D', 'E', 'F', '0', '1', '2', '3', '4', '5')\n",
            "('B', 'C', 'D', 'E', 'F', '0', '1', '2', '3', '4')\n",
            "('B', 'C', 'D', 'E', 'F', '0', '1', '2', '3', '5')\n",
            "('B', 'C', 'D', 'E', 'F', '0', '1', '2', '4', '5')\n",
            "('B', 'C', 'D', 'E', 'F', '0', '1', '3', '4', '5')\n",
            "('B', 'C', 'D', 'E', 'F', '0', '2', '3', '4', '5')\n",
            "('B', 'C', 'D', 'E', 'F', '1', '2', '3', '4', '5')\n",
            "('B', 'C', 'D', 'E', '0', '1', '2', '3', '4', '5')\n",
            "('B', 'C', 'D', 'F', '0', '1', '2', '3', '4', '5')\n",
            "('B', 'C', 'E', 'F', '0', '1', '2', '3', '4', '5')\n",
            "('B', 'D', 'E', 'F', '0', '1', '2', '3', '4', '5')\n",
            "('C', 'D', 'E', 'F', '0', '1', '2', '3', '4', '5')\n"
          ]
        }
      ]
    },
    {
      "cell_type": "markdown",
      "source": [
        "---"
      ],
      "metadata": {
        "id": "tNZb8-Rar73Y"
      }
    },
    {
      "cell_type": "markdown",
      "source": [
        "##Ejemplo 3"
      ],
      "metadata": {
        "id": "XDR4p2Jbr9di"
      }
    },
    {
      "cell_type": "code",
      "source": [
        "dado = [1, 2, 3, 4, 5, 6]\n",
        "n = len(dado)\n",
        "r = 2 #¿Cómo agrupar?, de dos en dos porque hay dos dados\n",
        "\n",
        "CnR = mt.factorial(n + r - 1) / (mt.factorial(r) * mt.factorial((n + r - 1) - r))\n",
        "print(\"Existen \", CnR, \" posibles combinaciones con repetición del total  de \", n, \" dados \", \" en grupos de\", r, \" en \", r)\n",
        "print(\"Aquií las combinaciones con repetición de dos dados\")\n",
        "\n",
        "#Definir el conjunto de elementos\n",
        "elementos = [1, 2, 3, 4, 5, 6]\n",
        "\n",
        "#Número de elementos a elegor en cada combinación\n",
        "r = 2\n",
        "\n",
        "#Calcular las combinaciones con repetición\n",
        "combinacionesDados = list(combinations_with_replacement(dado, r))\n",
        "\n",
        "#Imprimir las combinaciones\n",
        "for combinacion in combinacionesDados:\n",
        "    print(combinacion)"
      ],
      "metadata": {
        "colab": {
          "base_uri": "https://localhost:8080/"
        },
        "id": "jlrwo4Ser_0m",
        "outputId": "45515abb-66e3-4a10-830d-0715f70ffb14"
      },
      "execution_count": null,
      "outputs": [
        {
          "output_type": "stream",
          "name": "stdout",
          "text": [
            "Existen  21.0  posibles combinaciones con repetición del total  de  6  dados   en grupos de 2  en  2\n",
            "Aquií las combinaciones con repetición de dos dados\n",
            "(1, 1)\n",
            "(1, 2)\n",
            "(1, 3)\n",
            "(1, 4)\n",
            "(1, 5)\n",
            "(1, 6)\n",
            "(2, 2)\n",
            "(2, 3)\n",
            "(2, 4)\n",
            "(2, 5)\n",
            "(2, 6)\n",
            "(3, 3)\n",
            "(3, 4)\n",
            "(3, 5)\n",
            "(3, 6)\n",
            "(4, 4)\n",
            "(4, 5)\n",
            "(4, 6)\n",
            "(5, 5)\n",
            "(5, 6)\n",
            "(6, 6)\n"
          ]
        }
      ]
    },
    {
      "cell_type": "code",
      "source": [],
      "metadata": {
        "id": "X3knFS8bsG3g"
      },
      "execution_count": null,
      "outputs": []
    }
  ]
}