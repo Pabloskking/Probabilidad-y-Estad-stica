{
  "nbformat": 4,
  "nbformat_minor": 0,
  "metadata": {
    "colab": {
      "provenance": [],
      "authorship_tag": "ABX9TyPKVSWiWBv8e9wAlORXRU0Q",
      "include_colab_link": true
    },
    "kernelspec": {
      "name": "python3",
      "display_name": "Python 3"
    },
    "language_info": {
      "name": "python"
    }
  },
  "cells": [
    {
      "cell_type": "markdown",
      "metadata": {
        "id": "view-in-github",
        "colab_type": "text"
      },
      "source": [
        "<a href=\"https://colab.research.google.com/github/Pabloskking/Probabilidad-y-Estad-stica/blob/main/Unidad4/PRO_U4_Practica_3_Distribuci%C3%B3n_Poisson.ipynb\" target=\"_parent\"><img src=\"https://colab.research.google.com/assets/colab-badge.svg\" alt=\"Open In Colab\"/></a>"
      ]
    },
    {
      "cell_type": "markdown",
      "source": [
        "#Probabilidad y estadística\n",
        "\n",
        "##Unidad 4. Distribución de probabilidad\n",
        "**Alumno:** Juan Pablo Soriano Gonzalez\n",
        "\n",
        "**Facilitador:** José Gabriel Rodríguez Rivas"
      ],
      "metadata": {
        "id": "4eUSnZ0OJzr8"
      }
    },
    {
      "cell_type": "markdown",
      "source": [
        "#**Practica 3**: Distribución Poisson.\n"
      ],
      "metadata": {
        "id": "ighTboqJKMQq"
      }
    },
    {
      "cell_type": "code",
      "source": [
        "from scipy.stats import poisson\n",
        "\n",
        "# Parámetros de la distribución de Poisson\n",
        "media_accidentes = 2\n",
        "\n",
        "# Parte 1: Probabilidad de que no haya accidentes en 1 semana\n",
        "probabilidad_0_accidentes = poisson.pmf(0, media_accidentes)\n",
        "print(\"1. Probabilidad de 0 accidentes en 1 semana:\", probabilidad_0_accidentes)\n",
        "\n",
        "# Parte 2: Probabilidad de que a lo sumo haya tres accidentes en 2 semanas\n",
        "# Convertimos la medida a una media para 2 semanas\n",
        "media_2_semanas = media_accidentes * 2\n",
        "\n",
        "# Calculamos la probabilidad acumulada hasta 3 accidentes en 2 semanas\n",
        "probabilidad_3_o_menos_accidentes = poisson.pmf(3, media_2_semanas)\n",
        "print(\"2. Probabilidad de que a lo sumo haya 3 accidentes en 2 semanas:\", probabilidad_3_o_menos_accidentes)\n"
      ],
      "metadata": {
        "colab": {
          "base_uri": "https://localhost:8080/"
        },
        "id": "u_4UpimnxGZJ",
        "outputId": "295d8609-8409-4d0e-be13-92440bd0c9c2"
      },
      "execution_count": 2,
      "outputs": [
        {
          "output_type": "stream",
          "name": "stdout",
          "text": [
            "1. Probabilidad de 0 accidentes en 1 semana: 0.1353352832366127\n",
            "2. Probabilidad de que a lo sumo haya 3 accidentes en 2 semanas: 0.19536681481316454\n"
          ]
        }
      ]
    },
    {
      "cell_type": "markdown",
      "source": [
        "# **Ejercicio 2**\n",
        "\n",
        "\n",
        "*   Una compañía de seguros de vida asegura las vidas de **5,000 hombres** de **42 años** de edad.\n",
        "*   Si estudios actuariales muestran que **la probabilidad de que cualquier hombre de 42 años muera en un año determinado es .001**, encuentre la probabilidad exacta de que la compañia **tendrá que pagar x = 4 reclamaciones durante un año determinado.**\n",
        "\n"
      ],
      "metadata": {
        "id": "hFW8-fhasZjF"
      }
    },
    {
      "cell_type": "code",
      "source": [
        "from scipy.stats import poisson\n",
        "\n",
        "# Parámetros de la distribución de Poisson\n",
        "media_muertes = 5000 * 0.001 # 5000 hombres con una probabilidad de muerte de 0.001\n",
        "\n",
        "# Número de reclamaciones\n",
        "x= 4\n",
        "\n",
        "# Calcular la probabilidad de que la compañia tenga que pagar 4 reclamaciones en un año determinado\n",
        "probabilidad_4_reclamaciones = poisson.pmf(x, media_muertes)\n",
        "\n",
        "print(\"La probabilidad de que la compañía pague\", x, \"reclamaciones en un año determinado es:\", probabilidad_4_reclamaciones)"
      ],
      "metadata": {
        "colab": {
          "base_uri": "https://localhost:8080/"
        },
        "id": "BTWMvc4Ny4Rr",
        "outputId": "62e68637-76bb-4030-ca5a-fe3742b9c386"
      },
      "execution_count": 3,
      "outputs": [
        {
          "output_type": "stream",
          "name": "stdout",
          "text": [
            "La probabilidad de que la compañía pague 4 reclamaciones en un año determinado es: 0.17546736976785063\n"
          ]
        }
      ]
    }
  ]
}