{
  "nbformat": 4,
  "nbformat_minor": 0,
  "metadata": {
    "colab": {
      "provenance": [],
      "authorship_tag": "ABX9TyODxy/r/MXVRWIW/9NIjaam",
      "include_colab_link": true
    },
    "kernelspec": {
      "name": "python3",
      "display_name": "Python 3"
    },
    "language_info": {
      "name": "python"
    }
  },
  "cells": [
    {
      "cell_type": "markdown",
      "metadata": {
        "id": "view-in-github",
        "colab_type": "text"
      },
      "source": [
        "<a href=\"https://colab.research.google.com/github/Pabloskking/Probabilidad-y-Estad-stica/blob/main/Unidad4/PRO_U4_Practica_4_Problemas_de_Distribuci%C3%B3n_binomial_y_de_Poisson.ipynb\" target=\"_parent\"><img src=\"https://colab.research.google.com/assets/colab-badge.svg\" alt=\"Open In Colab\"/></a>"
      ]
    },
    {
      "cell_type": "markdown",
      "source": [
        "#Probabilidad y estadística\n",
        "\n",
        "##Unidad 4. Distribución de probabilidad\n",
        "**Alumno:** Juan Pablo Soriano Gonzalez\n",
        "\n",
        "**Facilitador:** José Gabriel Rodríguez Rivas"
      ],
      "metadata": {
        "id": "4eUSnZ0OJzr8"
      }
    },
    {
      "cell_type": "markdown",
      "source": [
        "#**Practica 3**: Problemas de Distribución binomial y de Poisson.\n",
        "\n"
      ],
      "metadata": {
        "id": "ighTboqJKMQq"
      }
    },
    {
      "cell_type": "markdown",
      "source": [
        "## **Problema 1**\n",
        "**Antes de resolver el problema especifique si la solución es de tipo Binomial o Poisson y explique por qué.**\n",
        "\n",
        "Realizar un programa en Python que resuelva el siguiente problema:\n",
        "\n",
        "\n",
        "*   El número x de personas ingresadas a una unidad de cuidados intensivos en un hospital particular, en un día, tiene una distribución de probabilidad de Poisson con media igual a cinco personas por día.\n",
        "*   **a).**¿Cuál es la probabilidad de que el número de personas ingresadas a una unidad de cuidados intensivos en un hospital particular, en un día particular, sea dos?\n",
        "*   **b).**¿Es probable que x exceda de 10? Explicar\n",
        "\n"
      ],
      "metadata": {
        "id": "8P5Oy9am2Z7-"
      }
    },
    {
      "cell_type": "markdown",
      "source": [
        "###**Tipo de distribución:**\n",
        "Este problema es de tipo **Poisson**.\n",
        "\n",
        "¿Por qué?\n",
        "Porque describe el **número de eventos (personas ingresadas)** que ocurren en un **intervalo de tiempo fijo (un día)**, y esos eventos:\n",
        "*   Son independientes entre sí.\n",
        "*   Ocurren con una tasa promedio conocida (λ = 5).\n",
        "*   Se presentan de forma aleatoria.\n",
        "\n"
      ],
      "metadata": {
        "id": "IzrpQjxs4VTW"
      }
    },
    {
      "cell_type": "code",
      "source": [
        "from scipy.stats import poisson\n",
        "\n",
        "# Media (lambda) de la distribución Poisson\n",
        "media = 5\n",
        "\n",
        "# a) Probabilidad de que ingresen exactamente 2 personas\n",
        "prob_2_personas = poisson.pmf(2, media)\n",
        "print(\"a) Probabilidad de que ingresen exactamente 2 personas:\", prob_2_personas)\n",
        "\n",
        "# b) ¿Es probable que x exceda de 10?\n",
        "# Calculamos P(X > 10) = 1 - P(X <= 10)\n",
        "prob_mas_10 = 1 - poisson.cdf(10, media)\n",
        "print(\"b) Probabilidad de que ingresen más de 10 personas:\", prob_mas_10)\n",
        "\n",
        "# Explicación simple para b)\n",
        "if prob_mas_10 < 0.05:\n",
        "    print(\"→ No es probable que ingresen más de 10 personas (menos del 5%)\")\n",
        "else:\n",
        "    print(\"→ Sí es probable que ingresen más de 10 personas (más del 5%)\")\n"
      ],
      "metadata": {
        "id": "Wm4ZgZYD4sTu",
        "colab": {
          "base_uri": "https://localhost:8080/"
        },
        "outputId": "6d4aa15f-c61a-459c-d7a6-561ff94a3c87"
      },
      "execution_count": 1,
      "outputs": [
        {
          "output_type": "stream",
          "name": "stdout",
          "text": [
            "a) Probabilidad de que ingresen exactamente 2 personas: 0.08422433748856832\n",
            "b) Probabilidad de que ingresen más de 10 personas: 0.013695268598382881\n",
            "→ No es probable que ingresen más de 10 personas (menos del 5%)\n"
          ]
        }
      ]
    },
    {
      "cell_type": "markdown",
      "source": [
        "Calculamos la probabilidad de que ingresen más de 10 personas en un día usando la distribución de Poisson con media 5. Esto se hace restando la probabilidad acumulada de 10 o menos del total (1 − P(X ≤ 10)).\n",
        "\n",
        "El resultado es una probabilidad muy baja, lo que indica que no es probable que ingresen más de 10 personas en un solo día."
      ],
      "metadata": {
        "id": "qDS2mu7v5tL0"
      }
    },
    {
      "cell_type": "markdown",
      "source": [
        "\n",
        "\n",
        "---\n",
        "\n"
      ],
      "metadata": {
        "id": "o8Ex1j0T6w5U"
      }
    },
    {
      "cell_type": "markdown",
      "source": [
        "## **Problema 2**\n",
        "**Antes de resolver el problema especifique si la solución es de tipo Binomial o Poisson y explique por qué.**\n",
        "\n",
        "Realizar un programa en Python que resuelva el siguiente problema:\n",
        "\n",
        "\n",
        "*   Un fabricantes de podadoras para el pasto compra motores de 1 hp y 2 ciclos, en lotes de 1,000, a un proveedor.\n",
        "*   El fabricante equipa cada una de las podadoras producidas por su planta con uno de los motores.\n",
        "*   La historia muestra que la probabilidad de que cualquier motor del proveedor resulte no satisfactorio es .001.\n",
        "*   **En un embarque de 1,000 motores, Calcular**\n",
        "*   **a).**¿Cuál es la probabilidad de que ninguno sea defectuoso?\n",
        "*   **b).**¿Cuál es la probabilidad de que tres sean defectuosos?\n",
        "*   **c).**¿Cuál es la probabilidad de que cuatro sean defectuosos?"
      ],
      "metadata": {
        "id": "bby4Ghe156Uw"
      }
    },
    {
      "cell_type": "markdown",
      "source": [
        "###**Tipo de distribución:**\n",
        "Este problema es de tipo **Binomial**.\n",
        "\n",
        "¿Por qué?\n",
        "*   Hay un número fijo de intentos: 1,000 motores.\n",
        "*   Cada motor tiene solo dos posibles resultados: defectuoso o no defectuoso.\n",
        "*   La probabilidad de que un motor sea defectuoso es constante: **p = 0.001**.\n",
        "*   Los eventos (motores) son **independientes**.\n",
        "\n"
      ],
      "metadata": {
        "id": "dIdm2yEd68OR"
      }
    },
    {
      "cell_type": "code",
      "source": [
        "from scipy.stats import binom\n",
        "\n",
        "# Parámetros de la distribución binomial\n",
        "n = 1000        # Tamaño del lote\n",
        "p = 0.001       # Probabilidad de que un motor sea defectuoso\n",
        "\n",
        "# a) Probabilidad de que ninguno sea defectuoso\n",
        "prob_0 = binom.pmf(0, n, p)\n",
        "print(\"a) Probabilidad de que ninguno sea defectuoso:\", prob_0)\n",
        "\n",
        "# b) Probabilidad de que tres sean defectuosos\n",
        "prob_3 = binom.pmf(3, n, p)\n",
        "print(\"b) Probabilidad de que tres sean defectuosos:\", prob_3)\n",
        "\n",
        "# c) Probabilidad de que cuatro sean defectuosos\n",
        "prob_4 = binom.pmf(4, n, p)\n",
        "print(\"c) Probabilidad de que cuatro sean defectuosos:\", prob_4)\n"
      ],
      "metadata": {
        "colab": {
          "base_uri": "https://localhost:8080/"
        },
        "id": "pTFIdLDb7ToW",
        "outputId": "1d867f71-7d1d-4ffe-8860-33122caf1f47"
      },
      "execution_count": 2,
      "outputs": [
        {
          "output_type": "stream",
          "name": "stdout",
          "text": [
            "a) Probabilidad de que ninguno sea defectuoso: 0.3676954247709639\n",
            "b) Probabilidad de que tres sean defectuosos: 0.061282509389840666\n",
            "c) Probabilidad de que cuatro sean defectuosos: 0.015289955420838651\n"
          ]
        }
      ]
    }
  ]
}