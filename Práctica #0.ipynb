{
  "cells": [
    {
      "cell_type": "markdown",
      "metadata": {
        "id": "view-in-github",
        "colab_type": "text"
      },
      "source": [
        "<a href=\"https://colab.research.google.com/github/Pabloskking/Probabilidad-y-Estad-stica/blob/main/Pr%C3%A1ctica%20%230.ipynb\" target=\"_parent\"><img src=\"https://colab.research.google.com/assets/colab-badge.svg\" alt=\"Open In Colab\"/></a>"
      ]
    },
    {
      "cell_type": "markdown",
      "source": [
        "\n",
        "\n",
        "\n",
        "# Probabilidad y Estadística\n",
        "\n",
        "## Unidad 1\n",
        "\n",
        "Práctica #0 Introducción a Python\n",
        "\n",
        "Grupo 2Y\n",
        "\n",
        "Alumno: Juan Pablo Soriano González\n",
        "\n",
        "Docente: Dr. José Gabriel Rodríguez Rivas"
      ],
      "metadata": {
        "id": "JMGY-clicHOm"
      }
    },
    {
      "cell_type": "code",
      "source": [
        "[4]\n",
        "    # Este es un comentario\n",
        "\n",
        "    x = \"Hola mundo\"\n",
        "    print(x)"
      ],
      "metadata": {
        "id": "-NHV_SGjcgRo",
        "outputId": "22259487-e440-4785-a50c-a7ef3ddf9848",
        "colab": {
          "base_uri": "https://localhost:8080/",
          "height": 124
        }
      },
      "execution_count": 3,
      "outputs": [
        {
          "output_type": "error",
          "ename": "IndentationError",
          "evalue": "unexpected indent (<ipython-input-3-8ee9fe748461>, line 4)",
          "traceback": [
            "\u001b[0;36m  File \u001b[0;32m\"<ipython-input-3-8ee9fe748461>\"\u001b[0;36m, line \u001b[0;32m4\u001b[0m\n\u001b[0;31m    x = \"Hola mundo\"\u001b[0m\n\u001b[0m    ^\u001b[0m\n\u001b[0;31mIndentationError\u001b[0m\u001b[0;31m:\u001b[0m unexpected indent\n"
          ]
        }
      ]
    },
    {
      "cell_type": "code",
      "source": [
        "a = 20\n",
        "b = 15\n",
        "\n",
        "if a < b:\n",
        "    print(a, \"es menor que\", b)\n",
        "else:\n",
        "    print(b, \"es mayor que\", a)\n",
        "print(\"Fuera del if\")"
      ],
      "metadata": {
        "id": "ycMX2zV-c9Z1",
        "outputId": "502ea7e5-2331-4a1d-f7de-34d8a41cc48d",
        "colab": {
          "base_uri": "https://localhost:8080/"
        }
      },
      "execution_count": 6,
      "outputs": [
        {
          "output_type": "stream",
          "name": "stdout",
          "text": [
            "15 es mayor que 20\n",
            "Fuera del if\n"
          ]
        }
      ]
    },
    {
      "cell_type": "code",
      "source": [
        "for i in range(10):\n",
        "     print(i)\n",
        "     print(\"Dentro del for\")\n",
        "print(\"Fuera del for\")"
      ],
      "metadata": {
        "id": "A9Du5IeEds8E",
        "outputId": "55821aaa-e93f-45a0-d00d-f72379b9b5dc",
        "colab": {
          "base_uri": "https://localhost:8080/"
        }
      },
      "execution_count": 9,
      "outputs": [
        {
          "output_type": "stream",
          "name": "stdout",
          "text": [
            "0\n",
            "Dentro del for\n",
            "1\n",
            "Dentro del for\n",
            "2\n",
            "Dentro del for\n",
            "3\n",
            "Dentro del for\n",
            "4\n",
            "Dentro del for\n",
            "5\n",
            "Dentro del for\n",
            "6\n",
            "Dentro del for\n",
            "7\n",
            "Dentro del for\n",
            "8\n",
            "Dentro del for\n",
            "9\n",
            "Dentro del for\n",
            "Fuera del for\n"
          ]
        }
      ]
    }
  ],
  "metadata": {
    "colab": {
      "name": "Te damos la bienvenida a Colaboratory",
      "provenance": [],
      "include_colab_link": true
    },
    "kernelspec": {
      "display_name": "Python 3",
      "name": "python3"
    }
  },
  "nbformat": 4,
  "nbformat_minor": 0
}