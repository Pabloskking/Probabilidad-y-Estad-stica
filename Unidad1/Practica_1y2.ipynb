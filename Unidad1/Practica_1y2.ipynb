{
  "nbformat": 4,
  "nbformat_minor": 0,
  "metadata": {
    "colab": {
      "provenance": [],
      "authorship_tag": "ABX9TyPnwV71zpbF3uGjfNr/nbPd",
      "include_colab_link": true
    },
    "kernelspec": {
      "name": "python3",
      "display_name": "Python 3"
    },
    "language_info": {
      "name": "python"
    }
  },
  "cells": [
    {
      "cell_type": "markdown",
      "metadata": {
        "id": "view-in-github",
        "colab_type": "text"
      },
      "source": [
        "<a href=\"https://colab.research.google.com/github/Pabloskking/Probabilidad-y-Estad-stica/blob/main/Unidad1/Practica_1y2.ipynb\" target=\"_parent\"><img src=\"https://colab.research.google.com/assets/colab-badge.svg\" alt=\"Open In Colab\"/></a>"
      ]
    },
    {
      "cell_type": "markdown",
      "source": [
        "# Probabilidad y Estadística\n",
        "\n",
        "\n",
        "\n",
        "![Tecno logo.png](data:image/png;base64,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)\n",
        "\n",
        "## Unidad 1\n",
        "\n",
        "*   **Práctica #1** *Estadística descriptiva básica e Histogramas.*\n",
        "*   **Práctica #2**  *Máximo, mínimo, Rango y dispersión de datos.*\n",
        "\n",
        "**Grupo:** 2Y\n",
        "\n",
        "**Alumno:** Juan Pablo Soriano González\n",
        "\n",
        "**Docente:** Dr. José Gabriel Rodríguez Rivas\n"
      ],
      "metadata": {
        "id": "v5UvEBoxuLQq"
      }
    },
    {
      "cell_type": "markdown",
      "source": [
        "#Importar la librería statistics"
      ],
      "metadata": {
        "id": "Pon96VaSThst"
      }
    },
    {
      "cell_type": "code",
      "execution_count": null,
      "metadata": {
        "id": "Dkm9_taITO5s"
      },
      "outputs": [],
      "source": [
        "from statistics import *"
      ]
    },
    {
      "cell_type": "markdown",
      "source": [
        "#Ejemplo 1: Registro de calificaciones de 12  alumnos"
      ],
      "metadata": {
        "id": "ZIHaAuPWTxsv"
      }
    },
    {
      "cell_type": "code",
      "source": [
        "# Lista de calificaciones del grupo a de probabilidad y estadística\n",
        "\n",
        "grupoa = [70, 70, 65, 90, 100, 95, 45, 80, 73, 20, 100, 96]\n",
        "print(grupoa)"
      ],
      "metadata": {
        "colab": {
          "base_uri": "https://localhost:8080/"
        },
        "id": "nOG9dpFvUGbE",
        "outputId": "3f1e57bb-084f-43de-f8c1-d466c6997b62"
      },
      "execution_count": null,
      "outputs": [
        {
          "output_type": "stream",
          "name": "stdout",
          "text": [
            "[70, 70, 65, 90, 100, 95, 45, 80, 73, 20, 100, 96]\n"
          ]
        }
      ]
    },
    {
      "cell_type": "code",
      "source": [
        "# la función type nos devuelve el tipo de dato de la variable\n",
        "type(grupoa)"
      ],
      "metadata": {
        "colab": {
          "base_uri": "https://localhost:8080/"
        },
        "id": "wJU8181rUfRP",
        "outputId": "45798457-7bbf-435b-ed3f-52215127e426"
      },
      "execution_count": null,
      "outputs": [
        {
          "output_type": "execute_result",
          "data": {
            "text/plain": [
              "list"
            ]
          },
          "metadata": {},
          "execution_count": 4
        }
      ]
    },
    {
      "cell_type": "markdown",
      "source": [
        "##Determinar la media del ejemplo 1"
      ],
      "metadata": {
        "id": "91WYkwn-UqJ0"
      }
    },
    {
      "cell_type": "code",
      "source": [
        "# Sacar la media de las calificaciones con una fórmula\n",
        "# La función len, me regresa la longitud de la lista\n",
        "\n",
        "promedio = sum(grupoa) / len(grupoa)\n",
        "print(promedio)"
      ],
      "metadata": {
        "colab": {
          "base_uri": "https://localhost:8080/"
        },
        "id": "b-BY9MI0U4kq",
        "outputId": "e177078d-791e-4f9a-8b7f-ed5181dbc3db"
      },
      "execution_count": null,
      "outputs": [
        {
          "output_type": "stream",
          "name": "stdout",
          "text": [
            "75.33333333333333\n"
          ]
        }
      ]
    },
    {
      "cell_type": "code",
      "source": [
        "# Utilizar la funcion mean que esta en la librería statistics para sacar\n",
        "# el promedio\n",
        "\n",
        "promedio2 = mean(grupoa)\n",
        "print(promedio2)"
      ],
      "metadata": {
        "colab": {
          "base_uri": "https://localhost:8080/"
        },
        "id": "BCuXcZ9AVbdx",
        "outputId": "7ca163b8-aff8-495a-ec1f-0711da79ab6b"
      },
      "execution_count": null,
      "outputs": [
        {
          "output_type": "stream",
          "name": "stdout",
          "text": [
            "75.33333333333333\n"
          ]
        }
      ]
    },
    {
      "cell_type": "markdown",
      "source": [
        "##Determinar la mediana del ejemplo 1"
      ],
      "metadata": {
        "id": "ab_fghtPWLY9"
      }
    },
    {
      "cell_type": "code",
      "source": [
        "# Determinar el valor de la mediana con la funcion median\n",
        "\n",
        "mediana = median(grupoa)\n",
        "print(mediana)"
      ],
      "metadata": {
        "colab": {
          "base_uri": "https://localhost:8080/"
        },
        "id": "CFNkhm07WTN2",
        "outputId": "56e91de7-69e5-465f-f380-fd766426f43a"
      },
      "execution_count": null,
      "outputs": [
        {
          "output_type": "stream",
          "name": "stdout",
          "text": [
            "76.5\n"
          ]
        }
      ]
    },
    {
      "cell_type": "markdown",
      "source": [
        "##Determinar la moda del ejemplo 1"
      ],
      "metadata": {
        "id": "q4WRRtBRWx7s"
      }
    },
    {
      "cell_type": "code",
      "source": [
        "# Determinar el valor de la moda con la funcion mode\n",
        "\n",
        "moda = mode(grupoa)\n",
        "print(moda)"
      ],
      "metadata": {
        "colab": {
          "base_uri": "https://localhost:8080/"
        },
        "id": "ZkGwdKtxW-Ki",
        "outputId": "515e1bd1-8d6b-4a28-9b4a-48abca3065c2"
      },
      "execution_count": null,
      "outputs": [
        {
          "output_type": "stream",
          "name": "stdout",
          "text": [
            "70\n"
          ]
        }
      ]
    },
    {
      "cell_type": "code",
      "source": [
        "# En caso de que allá mas de una moda usar la funcion multimode\n",
        "\n",
        "moda2 = multimode(grupoa)\n",
        "print(moda2)"
      ],
      "metadata": {
        "colab": {
          "base_uri": "https://localhost:8080/"
        },
        "id": "EZ5Qt47GXrFB",
        "outputId": "b951851b-33c1-4c46-9383-e0008ab8ff08"
      },
      "execution_count": null,
      "outputs": [
        {
          "output_type": "stream",
          "name": "stdout",
          "text": [
            "[70, 100]\n"
          ]
        }
      ]
    },
    {
      "cell_type": "markdown",
      "source": [
        "#Ejemplo 2. Tiempos de 100 metros de un grupo de 12 alumnos"
      ],
      "metadata": {
        "id": "Gic3EstPXM-3"
      }
    },
    {
      "cell_type": "code",
      "source": [
        "# Definimos una variable llamada tiempos100mts de tipo lista, que contiene los\n",
        "# tiempos que tardan los 10 alumnos para correr los 100 metros\n",
        "\n",
        "tiempos100mts = [15.10, 17.20, 14.69, 13.27, 22.15, 18.71, 19.15, 20.65, 15.10, 17.20]\n",
        "\n",
        "# Desplegamos los valores de la lista\n",
        "\n",
        "print(tiempos100mts)"
      ],
      "metadata": {
        "colab": {
          "base_uri": "https://localhost:8080/"
        },
        "id": "apGNLd-yYb3-",
        "outputId": "8c53d385-1adc-48ea-fb79-cd5c9c3a146f"
      },
      "execution_count": null,
      "outputs": [
        {
          "output_type": "stream",
          "name": "stdout",
          "text": [
            "[15.1, 17.2, 14.69, 13.27, 22.15, 18.71, 19.15, 20.65, 15.1, 17.2]\n"
          ]
        }
      ]
    },
    {
      "cell_type": "markdown",
      "source": [
        "##Funcion mean para calcular el promedio"
      ],
      "metadata": {
        "id": "njLWU2k5ZBZA"
      }
    },
    {
      "cell_type": "code",
      "source": [
        "# Usamos la funcion mean para determinar el tiempo promedio de la lista de valores\n",
        "\n",
        "print(\"El tiempo promedio de los corredores es=>\", mean(tiempos100mts) )"
      ],
      "metadata": {
        "colab": {
          "base_uri": "https://localhost:8080/"
        },
        "id": "vC6IupmPZGAl",
        "outputId": "647d93bd-29f8-4dfd-acf0-8d40f1984e07"
      },
      "execution_count": null,
      "outputs": [
        {
          "output_type": "stream",
          "name": "stdout",
          "text": [
            "El tiempo promedio de los corredores es=> 17.322\n"
          ]
        }
      ]
    },
    {
      "cell_type": "markdown",
      "source": [
        "##Funcion median para calcular la mediana"
      ],
      "metadata": {
        "id": "9eY45MZPZxFd"
      }
    },
    {
      "cell_type": "code",
      "source": [
        "# Usamos la funcion median para determinar el tiempo promedio de la lista de valores\n",
        "\n",
        "# definimos una variable llamada mediana para calcular la mediana de la lista con la funcion\n",
        "# median\n",
        "\n",
        "mediana = median(tiempos100mts)\n",
        "print(\"la media de los tiempos de los corredores es=>\", mediana )"
      ],
      "metadata": {
        "colab": {
          "base_uri": "https://localhost:8080/"
        },
        "id": "Fgy-KDgBaDtk",
        "outputId": "45cfe643-c544-47cb-bb79-5f4c391524a4"
      },
      "execution_count": null,
      "outputs": [
        {
          "output_type": "stream",
          "name": "stdout",
          "text": [
            "la media de los tiempos de los corredores es=> 17.2\n"
          ]
        }
      ]
    },
    {
      "cell_type": "markdown",
      "source": [
        "##Funcion mode para calcular la moda"
      ],
      "metadata": {
        "id": "IqrPzki7agys"
      }
    },
    {
      "cell_type": "code",
      "source": [
        "# Definimos una variable llamada moda para calcular la moda de la lista con la funcion\n",
        "# mode\n",
        "\n",
        "moda = mode(tiempos100mts)\n",
        "print(\"La moda de los tiempos es=>\", moda)"
      ],
      "metadata": {
        "colab": {
          "base_uri": "https://localhost:8080/"
        },
        "id": "_ApclYpZak-w",
        "outputId": "e821c9dd-b6d2-40fd-f37b-d0e6ca779f9f"
      },
      "execution_count": null,
      "outputs": [
        {
          "output_type": "stream",
          "name": "stdout",
          "text": [
            "La moda de los tiempos es=> 15.1\n"
          ]
        }
      ]
    },
    {
      "cell_type": "markdown",
      "source": [
        "##Funcion multimode para calcular múltiples modas"
      ],
      "metadata": {
        "id": "TLa33USZbLyx"
      }
    },
    {
      "cell_type": "code",
      "source": [
        "multimodas = multimode(tiempos100mts)\n",
        "print(\"La moda de los tiempos es=>\", multimodas)"
      ],
      "metadata": {
        "colab": {
          "base_uri": "https://localhost:8080/"
        },
        "id": "9__nIYRwbUbg",
        "outputId": "435df00c-fbda-4488-9a6e-13710a75eeb3"
      },
      "execution_count": null,
      "outputs": [
        {
          "output_type": "stream",
          "name": "stdout",
          "text": [
            "La moda de los tiempos es=> [15.1, 17.2]\n"
          ]
        }
      ]
    },
    {
      "cell_type": "markdown",
      "source": [
        "#Ejemplo 3: Histogramas de 2 grupos"
      ],
      "metadata": {
        "id": "WkUX-0H4biK2"
      }
    },
    {
      "cell_type": "code",
      "source": [
        "# Librería para generar numeros aleatorios\n",
        "import random"
      ],
      "metadata": {
        "id": "VzmN9q1mbluD"
      },
      "execution_count": null,
      "outputs": []
    },
    {
      "cell_type": "code",
      "source": [
        "fabrica1 = []\n",
        "for i in range(100):\n",
        "    numero_aleatorio = round(random.uniform(50, 100), 2)\n",
        "    fabrica1.append(numero_aleatorio)\n",
        "print(fabrica1)"
      ],
      "metadata": {
        "colab": {
          "base_uri": "https://localhost:8080/"
        },
        "id": "4GAGAgtWb8th",
        "outputId": "6ec3c645-43d4-4663-bcdf-0fdbdd3e60a2"
      },
      "execution_count": null,
      "outputs": [
        {
          "output_type": "stream",
          "name": "stdout",
          "text": [
            "[96.05, 64.86, 70.53, 83.92, 92.04, 66.92, 85.42, 66.2, 90.05, 55.09, 56.38, 60.28, 59.68, 56.43, 80.64, 64.63, 94.49, 50.72, 94.04, 74.5, 77.14, 98.93, 71.34, 90.25, 65.79, 82.22, 96.39, 98.3, 66.08, 96.38, 58.26, 75.17, 92.96, 90.92, 85.85, 50.43, 91.26, 61.72, 87.07, 79.89, 76.9, 83.06, 51.86, 80.17, 69.37, 98.04, 56.09, 93.87, 66.03, 82.23, 93.91, 56.45, 95.62, 91.21, 54.51, 78.28, 71.12, 92.09, 89.17, 58.58, 67.32, 57.98, 72.18, 76.28, 54.4, 64.92, 57.93, 91.28, 97.12, 69.62, 53.83, 52.46, 59.17, 96.29, 87.23, 51.14, 50.68, 73.72, 81.3, 90.52, 66.93, 76.46, 59.25, 53.94, 63.76, 72.75, 98.33, 53.38, 91.46, 51.37, 89.72, 58.22, 74.03, 81.17, 63.42, 70.23, 93.45, 53.47, 64.1, 69.99]\n"
          ]
        }
      ]
    },
    {
      "cell_type": "code",
      "source": [
        "fabrica2 = []\n",
        "for i in range(100):\n",
        "    numero_aleatorio2 = round( random.uniform(50, 100), 2)\n",
        "    fabrica2.append(numero_aleatorio2)\n",
        "print(fabrica2)"
      ],
      "metadata": {
        "colab": {
          "base_uri": "https://localhost:8080/"
        },
        "id": "pJSlCiNqdNH_",
        "outputId": "4d8ecaf5-b1c2-4f32-f781-c6211d08b11d"
      },
      "execution_count": null,
      "outputs": [
        {
          "output_type": "stream",
          "name": "stdout",
          "text": [
            "[76.83, 81.54, 82.17, 94.67, 91.47, 67.12, 81.71, 54.93, 94.93, 76.98, 75.38, 52.19, 91.96, 58.94, 90.58, 89.58, 80.57, 50.9, 51.77, 68.76, 97.95, 64.6, 63.96, 95.1, 88.01, 97.72, 96.91, 70.08, 71.99, 77.14, 62.96, 79.09, 82.24, 90.53, 60.42, 99.2, 56.82, 92.94, 81.66, 96.58, 61.59, 65.83, 94.63, 86.16, 85.3, 83.0, 80.48, 85.2, 64.29, 94.71, 83.61, 51.9, 91.42, 85.51, 63.04, 56.33, 57.56, 80.59, 64.27, 60.35, 96.62, 84.79, 85.75, 79.95, 96.95, 60.28, 74.15, 51.97, 93.63, 50.33, 88.74, 50.83, 87.19, 86.21, 96.26, 64.55, 67.37, 98.26, 67.03, 81.6, 75.65, 61.34, 95.52, 82.14, 96.57, 62.91, 57.72, 79.03, 87.74, 53.31, 90.77, 72.99, 92.71, 82.22, 57.45, 66.83, 64.35, 76.35, 80.93, 99.76]\n"
          ]
        }
      ]
    },
    {
      "cell_type": "code",
      "source": [
        "# librería de python para graficar valores\n",
        "import matplotlib.pyplot as plt"
      ],
      "metadata": {
        "id": "wEwvSx5td07m"
      },
      "execution_count": null,
      "outputs": []
    },
    {
      "cell_type": "code",
      "source": [
        "plt.hist(fabrica1)\n",
        "plt.title(\"Producción diara de la fábrica 1\")"
      ],
      "metadata": {
        "colab": {
          "base_uri": "https://localhost:8080/",
          "height": 295
        },
        "id": "ubZxxGKgeI0g",
        "outputId": "009ce7c8-7428-4312-fe4f-a68ea98a125d"
      },
      "execution_count": null,
      "outputs": [
        {
          "output_type": "execute_result",
          "data": {
            "text/plain": [
              "Text(0.5, 1.0, 'Producción diara de la fábrica 1')"
            ]
          },
          "metadata": {},
          "execution_count": 19
        },
        {
          "output_type": "display_data",
          "data": {
            "text/plain": [
              "<Figure size 640x480 with 1 Axes>"
            ],
            "image/png": "[encoded data removed]"
          },
          "metadata": {}
        }
      ]
    },
    {
      "cell_type": "code",
      "source": [
        "plt.hist(fabrica2)\n",
        "plt.title(\"Producción diara de la fábrica 2\")"
      ],
      "metadata": {
        "colab": {
          "base_uri": "https://localhost:8080/",
          "height": 295
        },
        "id": "N1yaQulPebX9",
        "outputId": "cecb4e1d-eb41-4b4e-9b86-b8a228b81c29"
      },
      "execution_count": null,
      "outputs": [
        {
          "output_type": "execute_result",
          "data": {
            "text/plain": [
              "Text(0.5, 1.0, 'Producción diara de la fábrica 2')"
            ]
          },
          "metadata": {},
          "execution_count": 20
        },
        {
          "output_type": "display_data",
          "data": {
            "text/plain": [
              "<Figure size 640x480 with 1 Axes>"
            ],
            "image/png": "[encoded data removed]"
          },
          "metadata": {}
        }
      ]
    },
    {
      "cell_type": "code",
      "source": [
        "media1 = mean(fabrica1)\n",
        "mediana1 = median(fabrica1)\n",
        "moda1 = mode(fabrica1)\n",
        "\n",
        "print(\"Valores de la fabrica 1\")\n",
        "print(\"La media es=\", media1)\n",
        "print(\"La mediana es=\", mediana1)\n",
        "print(\"La moda es=\", moda1)"
      ],
      "metadata": {
        "colab": {
          "base_uri": "https://localhost:8080/"
        },
        "id": "5tD93Ux_d8ET",
        "outputId": "a83b73f1-287c-42de-d4e3-4e0650e1a329"
      },
      "execution_count": null,
      "outputs": [
        {
          "output_type": "stream",
          "name": "stdout",
          "text": [
            "Valores de la fabrica 1\n",
            "La media es= 74.2858\n",
            "La mediana es= 73.235\n",
            "La moda es= 96.05\n"
          ]
        }
      ]
    },
    {
      "cell_type": "code",
      "source": [
        "media2 = mean(fabrica2)\n",
        "mediana2 = median(fabrica2)\n",
        "moda2 = mode(fabrica2)\n",
        "\n",
        "print(\"Valores de la fabrica 2\")\n",
        "print(\"La media es=\", media2)\n",
        "print(\"La mediana es=\", mediana2)\n",
        "print(\"La moda es=\", moda2)"
      ],
      "metadata": {
        "colab": {
          "base_uri": "https://localhost:8080/"
        },
        "id": "X_Wa-ccjeYgj",
        "outputId": "0480aaa9-2b90-4aaa-8945-e8703db7dbfb"
      },
      "execution_count": null,
      "outputs": [
        {
          "output_type": "stream",
          "name": "stdout",
          "text": [
            "Valores de la fabrica 2\n",
            "La media es= 77.334\n",
            "La mediana es= 80.58\n",
            "La moda es= 76.83\n"
          ]
        }
      ]
    },
    {
      "cell_type": "code",
      "source": [
        "# Generar 2 subplot de 1 renglón por 2 columnas para desplegar los 2 histogramas,\n",
        "# una al lado de la otra\n",
        "\n",
        "fig, (ax1, ax2) = plt.subplots(nrows =1, ncols=2, figsize=(10, 5))\n",
        "ax1.hist(fabrica1)\n",
        "ax2.hist(fabrica2)\n",
        "plt.show()"
      ],
      "metadata": {
        "colab": {
          "base_uri": "https://localhost:8080/",
          "height": 175
        },
        "id": "WtI_CqbMe3_K",
        "outputId": "d5674ae3-4284-4702-ca65-ad5c727e2d3d"
      },
      "execution_count": null,
      "outputs": [
        {
          "output_type": "display_data",
          "data": {
            "text/plain": [
              "<Figure size 1000x500 with 2 Axes>"
            ],
            "image/png": "[encoded data removed]"
          },
          "metadata": {}
        }
      ]
    },
    {
      "cell_type": "code",
      "source": [
        "plt.hist(fabrica1, bins=10, alpha=0.2, color='b', edgecolor = \"black\")\n",
        "plt.axvline(media1, color='b', linestyle='dashed', linewidth=2, label='Media')\n",
        "plt.axvline(mediana1, color='r', linestyle='dashed', linewidth=2, label='Mediana')\n",
        "plt.axvline(moda1, color='y', linestyle='dashed', linewidth=2, label='Moda')\n",
        "plt.xlabel('Valor')\n",
        "plt.ylabel('Frecuencia')\n",
        "plt.title(\"Producción diaria de la fabrica 1\")\n",
        "plt.legend()\n",
        "plt.show()"
      ],
      "metadata": {
        "colab": {
          "base_uri": "https://localhost:8080/",
          "height": 263
        },
        "id": "aXHDkS1EgyYx",
        "outputId": "263bbbfa-2ab4-4a91-871b-aebf0d47caa4"
      },
      "execution_count": null,
      "outputs": [
        {
          "output_type": "display_data",
          "data": {
            "text/plain": [
              "<Figure size 640x480 with 1 Axes>"
            ],
            "image/png": "[encoded data removed]"
          },
          "metadata": {}
        }
      ]
    },
    {
      "cell_type": "code",
      "source": [
        "plt.hist(fabrica2, bins=10, alpha=0.2, color='b', edgecolor = \"black\")\n",
        "plt.axvline(media2, color='b', linestyle='dashed', linewidth=2, label='Media')\n",
        "plt.axvline(mediana2, color='r', linestyle='dashed', linewidth=2, label='Mediana')\n",
        "plt.axvline(moda2, color='y', linestyle='dashed', linewidth=2, label='Moda')\n",
        "plt.xlabel('Valor')\n",
        "plt.ylabel('Frecuencia')\n",
        "plt.title(\"Producción diaria de la fabrica 2\")\n",
        "plt.legend()\n",
        "plt.show()"
      ],
      "metadata": {
        "colab": {
          "base_uri": "https://localhost:8080/",
          "height": 263
        },
        "id": "ij0vL9kAjmqw",
        "outputId": "6ca8787b-c496-4862-9bb5-2de9affcd017"
      },
      "execution_count": null,
      "outputs": [
        {
          "output_type": "display_data",
          "data": {
            "text/plain": [
              "<Figure size 640x480 with 1 Axes>"
            ],
            "image/png": "[encoded data removed]"
          },
          "metadata": {}
        }
      ]
    }
  ]
}